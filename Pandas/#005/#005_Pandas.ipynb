{
 "cells": [
  {
   "cell_type": "markdown",
   "metadata": {},
   "source": [
    "# #005_Pandas"
   ]
  },
  {
   "cell_type": "markdown",
   "metadata": {},
   "source": [
    "## Visualization"
   ]
  },
  {
   "cell_type": "markdown",
   "metadata": {},
   "source": [
    "- 목적 : 정보가 있는 데이터를 탐험하기 위해서 -> 보기 편하게\n",
    "- 기계학습 쪽의 핵심은 Matplotlib\n",
    "    - 대부분의 라이브러리가 matplotlib 기반으로 만들어졌다."
   ]
  },
  {
   "cell_type": "markdown",
   "metadata": {},
   "source": [
    "### Matplotlib"
   ]
  },
  {
   "cell_type": "markdown",
   "metadata": {},
   "source": [
    "- 종류 : pyplot, pylab(무겁고 충돌이 많아서 권고되지 않음)"
   ]
  },
  {
   "cell_type": "code",
   "execution_count": 2,
   "metadata": {},
   "outputs": [],
   "source": [
    "import matplotlib.pyplot as plt"
   ]
  },
  {
   "cell_type": "code",
   "execution_count": 3,
   "metadata": {},
   "outputs": [
    {
     "data": {
      "text/plain": [
       "<Figure size 432x288 with 0 Axes>"
      ]
     },
     "execution_count": 3,
     "metadata": {},
     "output_type": "execute_result"
    },
    {
     "data": {
      "text/plain": [
       "<Figure size 432x288 with 0 Axes>"
      ]
     },
     "metadata": {},
     "output_type": "display_data"
    }
   ],
   "source": [
    "plt.figure() #눈에 보이지 않는 가상의 영역 -> 별도 선언하지 않아도, 하위 객체 생성시 자동으로 생성된다."
   ]
  },
  {
   "cell_type": "code",
   "execution_count": 66,
   "metadata": {},
   "outputs": [
    {
     "data": {
      "text/plain": [
       "[<matplotlib.lines.Line2D at 0x128c0c208>]"
      ]
     },
     "execution_count": 66,
     "metadata": {},
     "output_type": "execute_result"
    },
    {
     "data": {
      "image/png": "[encoded data removed]",
      "text/plain": [
       "<Figure size 432x288 with 1 Axes>"
      ]
     },
     "metadata": {
      "needs_background": "light"
     },
     "output_type": "display_data"
    }
   ],
   "source": [
    "# plt.figure(figsize=(10,5), facecolor='pink') #figure와 axes는 순서가 중요하다.\n",
    "plt.axes.ylim=(10,50)\n",
    "# plt.axes(ylim=(0,50)) #ylim : y축의 limit를 건다.\n",
    "plt.title('Title') #한글은 따로 처리하지 않으면, 깨져서 보인다.\n",
    "plt.xlabel('Xlabel') #x축 라벨\n",
    "plt.ylabel('Ylabel') #y축 라벨\n",
    "plt.grid(True) #표 내부에 그리드를 그려준다.\n",
    "plt.plot([1,2,3],[4,5,6], color='k', marker='o') #라인 그래프를 그려준다. 가변키워드이지만 특정 옵션이 아닌 것을 넣으면 에러가 난다."
   ]
  },
  {
   "cell_type": "code",
   "execution_count": null,
   "metadata": {},
   "outputs": [],
   "source": []
  }
 ],
 "metadata": {
  "kernelspec": {
   "display_name": "Python 3",
   "language": "python",
   "name": "python3"
  },
  "language_info": {
   "codemirror_mode": {
    "name": "ipython",
    "version": 3
   },
   "file_extension": ".py",
   "mimetype": "text/x-python",
   "name": "python",
   "nbconvert_exporter": "python",
   "pygments_lexer": "ipython3",
   "version": "3.7.3"
  }
 },
 "nbformat": 4,
 "nbformat_minor": 2
}
