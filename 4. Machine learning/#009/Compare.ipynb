{
 "cells": [
  {
   "cell_type": "markdown",
   "metadata": {},
   "source": [
    "# Comparison of two algorithms\n",
    "\n",
    "We will see in this notebook how we can compare the prediction accuracy of two algorithms."
   ]
  },
  {
   "cell_type": "code",
   "execution_count": null,
   "metadata": {},
   "outputs": [],
   "source": [
    "import pickle\n",
    "import os\n",
    "\n",
    "import pandas as pd\n",
    "\n",
    "from surprise import SVD\n",
    "from surprise import KNNBasic\n",
    "from surprise import Dataset                                                     \n",
    "from surprise import Reader                                                      \n",
    "from surprise import dump\n",
    "from surprise.accuracy import rmse"
   ]
  },
  {
   "cell_type": "code",
   "execution_count": null,
   "metadata": {},
   "outputs": [],
   "source": [
    "# We will train and test on the u1.base and u1.test files of the movielens-100k dataset.\n",
    "# if you haven't already, you need to download the movielens-100k dataset\n",
    "# You can do it manually, or by running:\n",
    "\n",
    "#Dataset.load_builtin('ml-100k')\n",
    "\n",
    "# Now, let's load the dataset\n",
    "# train_file = os.path.expanduser('~') + '/.surprise_data/ml-100k/ml-100k/u1.base'\n",
    "# test_file = os.path.expanduser('~') + '/.surprise_data/ml-100k/ml-100k/u1.test'\n",
    "# data = Dataset.load_from_folds([(train_file, test_file)], Reader('ml-100k'))\n",
    "\n",
    "                \n",
    "# We'll use the well-known SVD algorithm and a basic nearest neighbors approach.\n",
    "algo_svd = SVD()                                                       \n",
    "algo_knn = KNNBasic()\n",
    "\n",
    "for trainset, testset in data.folds(): \n",
    "    algo_svd.fit(trainset)                             \n",
    "    predictions_svd = algo_svd.test(testset)\n",
    "    \n",
    "    algo_knn.fit(trainset)\n",
    "    predictions_knn = algo_knn.test(testset)\n",
    "    \n",
    "    rmse(predictions_svd)\n",
    "    rmse(predictions_knn)                                                                           \n",
    "    \n",
    "#     dump.dump('./dump_SVD', predictions_svd, algo_svd)\n",
    "#     dump.dump('./dump_KNN', predictions_knn, algo_knn)"
   ]
  },
  {
   "cell_type": "code",
   "execution_count": null,
   "metadata": {},
   "outputs": [],
   "source": [
    "# The dumps have been saved and we can now use them whenever we want.\n",
    "\n",
    "predictions_svd, algo_svd = dump.load('./dump_SVD')\n",
    "predictions_knn, algo_knn = dump.load('./dump_KNN')\n",
    "\n",
    "df_svd = pd.DataFrame(predictions_svd, columns=['uid', 'iid', 'rui', 'est', 'details'])    \n",
    "df_knn = pd.DataFrame(predictions_knn, columns=['uid', 'iid', 'rui', 'est', 'details'])    \n",
    "\n",
    "df_svd['err'] = abs(df_svd.est - df_svd.rui)\n",
    "df_knn['err'] = abs(df_knn.est - df_knn.rui)"
   ]
  },
  {
   "cell_type": "markdown",
   "metadata": {},
   "source": [
    "We now have two dataframes with the all the predictions for each algorithm. The cool thing is that, as both algorithm have been tested on the same testset, the indexes of the two dataframes are the same!"
   ]
  },
  {
   "cell_type": "code",
   "execution_count": null,
   "metadata": {},
   "outputs": [],
   "source": [
    "df_svd.head()"
   ]
  },
  {
   "cell_type": "code",
   "execution_count": null,
   "metadata": {},
   "outputs": [],
   "source": [
    "df_knn.head()"
   ]
  },
  {
   "cell_type": "code",
   "execution_count": null,
   "metadata": {},
   "outputs": [],
   "source": [
    "# Let's check how good are the KNN predictions when the SVD has a huge error:\n",
    "df_knn[df_svd.err >= 3.5]"
   ]
  },
  {
   "cell_type": "code",
   "execution_count": null,
   "metadata": {},
   "outputs": [],
   "source": [
    "# Well... Not much better.\n",
    "# Now, let's look at the predictions of SVD on the 10 worst predictions for KNN\n",
    "df_svd.iloc[df_knn.sort_values(by='err')[-10:].index]"
   ]
  },
  {
   "cell_type": "code",
   "execution_count": null,
   "metadata": {},
   "outputs": [],
   "source": [
    "# How different are the predictions from both algorithms ?\n",
    "# Let's count the number of predictions for each rating value\n",
    "\n",
    "import matplotlib.pyplot as plt\n",
    "import matplotlib\n",
    "%matplotlib notebook\n",
    "matplotlib.style.use('ggplot')\n",
    "\n",
    "figure, (ax1, ax2) = plt.subplots(1, 2)\n",
    "\n",
    "df_svd.est.plot(kind='hist', title='SVD', ax=ax1)\n",
    "df_knn.est.plot(kind='hist', title='KNN', ax=ax2)\n",
    "\n",
    "# As expected, one of the drawbacks of the NN algorithms is that their predictions are often\n",
    "# quite concentrated around the mean. The SVD algorithm seems more confortable predicting extreme rating values."
   ]
  },
  {
   "cell_type": "code",
   "execution_count": null,
   "metadata": {},
   "outputs": [],
   "source": [
    "# Question: when a user has rated only a small number of items (less than 10), which algorithm\n",
    "# gives the best predictions on average?\n",
    "\n",
    "def get_Iu(uid):\n",
    "    \"\"\"Return the number of items rated by given user\n",
    "    \n",
    "    Args:\n",
    "        uid: The raw id of the user.\n",
    "    Returns:\n",
    "        The number of items rated by the user.\n",
    "    \"\"\"\n",
    "    \n",
    "    try:\n",
    "        return len(trainset.ur[trainset.to_inner_uid(uid)])\n",
    "    except ValueError:  # user was not part of the trainset\n",
    "        return 0\n",
    "    \n",
    "df_knn['Iu'] = df_knn.uid.apply(get_Iu)\n",
    "df_svd['Iu'] = df_svd.uid.apply(get_Iu)\n",
    "\n",
    "df_knn[df_knn.Iu < 10].err.mean(), df_svd[df_svd.Iu < 10].err.mean()"
   ]
  }
 ],
 "metadata": {
  "kernelspec": {
   "display_name": "Python 3",
   "language": "python",
   "name": "python3"
  },
  "language_info": {
   "codemirror_mode": {
    "name": "ipython",
    "version": 3
   },
   "file_extension": ".py",
   "mimetype": "text/x-python",
   "name": "python",
   "nbconvert_exporter": "python",
   "pygments_lexer": "ipython3",
   "version": "3.7.3"
  }
 },
 "nbformat": 4,
 "nbformat_minor": 1
}
