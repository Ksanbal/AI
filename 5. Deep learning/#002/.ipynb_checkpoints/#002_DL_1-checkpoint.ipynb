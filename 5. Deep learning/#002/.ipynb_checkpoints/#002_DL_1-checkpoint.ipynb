{
 "cells": [
  {
   "cell_type": "markdown",
   "metadata": {},
   "source": [
    "# #002_DL "
   ]
  },
  {
   "cell_type": "markdown",
   "metadata": {},
   "source": [
    "tensorflow의 tensor - 3차원이상의 nc차 배열, numpy기반, GPU기능, 뉴럴 네트워크를 위한 수식<br>\n",
    "tensorflow - 딥러닝에만 사용되지 않는다. "
   ]
  },
  {
   "cell_type": "code",
   "execution_count": 2,
   "metadata": {},
   "outputs": [],
   "source": [
    "import tensorflow as tf"
   ]
  },
  {
   "cell_type": "code",
   "execution_count": 2,
   "metadata": {},
   "outputs": [],
   "source": [
    "data = tf.keras.datasets.fashion_mnist.load_data()"
   ]
  },
  {
   "cell_type": "code",
   "execution_count": 3,
   "metadata": {},
   "outputs": [
    {
     "data": {
      "text/plain": [
       "(60000,)"
      ]
     },
     "execution_count": 3,
     "metadata": {},
     "output_type": "execute_result"
    }
   ],
   "source": [
    "data[0][1].shape #y data"
   ]
  },
  {
   "cell_type": "code",
   "execution_count": 4,
   "metadata": {},
   "outputs": [
    {
     "data": {
      "text/plain": [
       "(60000, 28, 28)"
      ]
     },
     "execution_count": 4,
     "metadata": {},
     "output_type": "execute_result"
    }
   ],
   "source": [
    "data[0][0].shape #X data"
   ]
  },
  {
   "cell_type": "code",
   "execution_count": 5,
   "metadata": {},
   "outputs": [
    {
     "data": {
      "text/plain": [
       "array([[  0,   0,   0, ..., 124,   0,   0],\n",
       "       [  0,   0,   0, ...,   0,   0,   0],\n",
       "       [  0,   0,   0, ..., 121,  61, 209],\n",
       "       ...,\n",
       "       [131, 133, 128, ...,   2,   0, 117],\n",
       "       [217, 180, 142, ..., 143, 113, 102],\n",
       "       [111, 111, 113, ...,   0,   0,   0]], dtype=uint8)"
      ]
     },
     "execution_count": 5,
     "metadata": {},
     "output_type": "execute_result"
    }
   ],
   "source": [
    "data[0][0].reshape(28*28,-1) # 1차원 데이터로 변환"
   ]
  },
  {
   "cell_type": "code",
   "execution_count": 6,
   "metadata": {},
   "outputs": [],
   "source": [
    "import matplotlib.pyplot as plt"
   ]
  },
  {
   "cell_type": "code",
   "execution_count": 7,
   "metadata": {},
   "outputs": [
    {
     "data": {
      "text/plain": [
       "<matplotlib.image.AxesImage at 0xb31584400>"
      ]
     },
     "execution_count": 7,
     "metadata": {},
     "output_type": "execute_result"
    },
    {
     "data": {
      "image/png": "[encoded data removed]",
      "text/plain": [
       "<Figure size 432x288 with 1 Axes>"
      ]
     },
     "metadata": {
      "needs_background": "light"
     },
     "output_type": "display_data"
    }
   ],
   "source": [
    "plt.imshow(data[0][0][23], cmap='gray')"
   ]
  },
  {
   "cell_type": "code",
   "execution_count": 8,
   "metadata": {},
   "outputs": [
    {
     "data": {
      "text/plain": [
       "<matplotlib.image.AxesImage at 0x106341668>"
      ]
     },
     "execution_count": 8,
     "metadata": {},
     "output_type": "execute_result"
    },
    {
     "data": {
      "image/png": "[encoded data removed]",
      "text/plain": [
       "<Figure size 432x288 with 1 Axes>"
      ]
     },
     "metadata": {
      "needs_background": "light"
     },
     "output_type": "display_data"
    }
   ],
   "source": [
    "plt.imshow(data[0][0][0][3:25,:]) #행렬연산을 통해서 그래픽 처리가 가능하다."
   ]
  },
  {
   "cell_type": "code",
   "execution_count": 9,
   "metadata": {},
   "outputs": [
    {
     "data": {
      "text/plain": [
       "<matplotlib.image.AxesImage at 0x10728a748>"
      ]
     },
     "execution_count": 9,
     "metadata": {},
     "output_type": "execute_result"
    },
    {
     "data": {
      "image/png": "[encoded data removed]",
      "text/plain": [
       "<Figure size 432x288 with 1 Axes>"
      ]
     },
     "metadata": {
      "needs_background": "light"
     },
     "output_type": "display_data"
    }
   ],
   "source": [
    "plt.imshow(data[0][0][0][::-1,:])"
   ]
  },
  {
   "cell_type": "markdown",
   "metadata": {},
   "source": [
    "모델을 만들때 기본적으로는 input 레이어를 만들지 않는다<br>\n",
    "하지만, 데이터가 2차원 이상일때는 input 레이어에 flatten을 지정한다."
   ]
  },
  {
   "cell_type": "code",
   "execution_count": 6,
   "metadata": {},
   "outputs": [],
   "source": [
    "(X_train,y_train),(X_test,y_test) = tf.keras.datasets.fashion_mnist.load_data()"
   ]
  },
  {
   "cell_type": "code",
   "execution_count": 7,
   "metadata": {},
   "outputs": [],
   "source": [
    "#모델 구성(방법 1)\n",
    "model = tf.keras.models.Sequential([\n",
    "    tf.keras.layers.Flatten(input_shape=(28,28)), #항상 input데이터의 shape을 지정해줘야한다.\n",
    "    tf.keras.layers.Dense(512, activation='relu'), #activation접근은 '문자열'이나 tf.nn.relu로 상수로 접근할 수 있다.\n",
    "    tf.keras.layers.Dense(10, activation=tf.nn.softmax) #각 출력의 확률 중 가장 높은 걸 뽑아낸다.\n",
    "]) #뼈대"
   ]
  },
  {
   "cell_type": "code",
   "execution_count": 8,
   "metadata": {},
   "outputs": [],
   "source": [
    "#학습 전략 구성\n",
    "model.compile(\n",
    "    optimizer='adam', #계산방법\n",
    "    loss='sparse_categorical_crossentropy', #loss func을 지정\n",
    "    metrics=['accuracy'] #평가방법, list이기 떄문에 동시에 여러개 넣을 수 있다.\n",
    ")"
   ]
  },
  {
   "cell_type": "code",
   "execution_count": 9,
   "metadata": {
    "scrolled": true
   },
   "outputs": [
    {
     "name": "stderr",
     "output_type": "stream",
     "text": [
      "WARNING: Logging before flag parsing goes to stderr.\n",
      "W0624 18:26:21.916794 4426155456 deprecation.py:323] From /anaconda3/lib/python3.7/site-packages/tensorflow/python/ops/math_grad.py:1250: add_dispatch_support.<locals>.wrapper (from tensorflow.python.ops.array_ops) is deprecated and will be removed in a future version.\n",
      "Instructions for updating:\n",
      "Use tf.where in 2.0, which has the same broadcast rule as np.where\n"
     ]
    },
    {
     "name": "stdout",
     "output_type": "stream",
     "text": [
      "Train on 60000 samples\n",
      "Epoch 1/20\n",
      "60000/60000 [==============================] - 4s 67us/sample - loss: 13.8644 - accuracy: 0.13981s\n",
      "Epoch 2/20\n",
      "60000/60000 [==============================] - 4s 63us/sample - loss: 14.5063 - accuracy: 0.1000\n",
      "Epoch 3/20\n",
      "60000/60000 [==============================] - 4s 63us/sample - loss: 14.5063 - accuracy: 0.1000\n",
      "Epoch 4/20\n",
      "60000/60000 [==============================] - 4s 63us/sample - loss: 14.5063 - accuracy: 0.1000\n",
      "Epoch 5/20\n",
      "60000/60000 [==============================] - 4s 63us/sample - loss: 14.5063 - accuracy: 0.1000\n",
      "Epoch 6/20\n",
      "60000/60000 [==============================] - 4s 63us/sample - loss: 14.5063 - accuracy: 0.1000\n",
      "Epoch 7/20\n",
      "60000/60000 [==============================] - 4s 65us/sample - loss: 14.5063 - accuracy: 0.1000\n",
      "Epoch 8/20\n",
      "60000/60000 [==============================] - 4s 66us/sample - loss: 14.5063 - accuracy: 0.1000\n",
      "Epoch 9/20\n",
      "60000/60000 [==============================] - 4s 74us/sample - loss: 14.5063 - accuracy: 0.1000\n",
      "Epoch 10/20\n",
      "60000/60000 [==============================] - 4s 64us/sample - loss: 14.5063 - accuracy: 0.1000\n",
      "Epoch 11/20\n",
      "60000/60000 [==============================] - 4s 64us/sample - loss: 14.5063 - accuracy: 0.1000\n",
      "Epoch 12/20\n",
      "60000/60000 [==============================] - 4s 59us/sample - loss: 14.5063 - accuracy: 0.1000\n",
      "Epoch 13/20\n",
      "60000/60000 [==============================] - 4s 60us/sample - loss: 14.5063 - accuracy: 0.1000\n",
      "Epoch 14/20\n",
      "60000/60000 [==============================] - 4s 59us/sample - loss: 14.5063 - accuracy: 0.1000\n",
      "Epoch 15/20\n",
      "60000/60000 [==============================] - 4s 60us/sample - loss: 14.5063 - accuracy: 0.1000\n",
      "Epoch 16/20\n",
      "60000/60000 [==============================] - 4s 59us/sample - loss: 14.5063 - accuracy: 0.1000\n",
      "Epoch 17/20\n",
      "60000/60000 [==============================] - 4s 63us/sample - loss: 14.5063 - accuracy: 0.1000\n",
      "Epoch 18/20\n",
      "60000/60000 [==============================] - 4s 72us/sample - loss: 14.5063 - accuracy: 0.1000\n",
      "Epoch 19/20\n",
      "60000/60000 [==============================] - 4s 71us/sample - loss: 14.5063 - accuracy: 0.1000\n",
      "Epoch 20/20\n",
      "60000/60000 [==============================] - 4s 75us/sample - loss: 14.5063 - accuracy: 0.10001s - loss: 1\n"
     ]
    },
    {
     "data": {
      "text/plain": [
       "<tensorflow.python.keras.callbacks.History at 0xb2e4606a0>"
      ]
     },
     "execution_count": 9,
     "metadata": {},
     "output_type": "execute_result"
    }
   ],
   "source": [
    "model.fit(X_train,y_train, epochs=20) #epochs:학습횟수\n",
    "#성능이 안나온다면 -> epochs의 수를 늘리거나, model을 더 복잡하게 만든다.\n",
    "#optimizer를 변경시 계산속도가 변경될 수 있다."
   ]
  },
  {
   "cell_type": "code",
   "execution_count": 11,
   "metadata": {},
   "outputs": [],
   "source": [
    "X_train_n, X_test_n = X_train/255.0, X_test/255.0"
   ]
  },
  {
   "cell_type": "code",
   "execution_count": 12,
   "metadata": {
    "scrolled": true
   },
   "outputs": [
    {
     "name": "stdout",
     "output_type": "stream",
     "text": [
      "Train on 60000 samples\n",
      "Epoch 1/20\n",
      "60000/60000 [==============================] - 4s 69us/sample - loss: 0.5419 - accuracy: 0.8315\n",
      "Epoch 2/20\n",
      "60000/60000 [==============================] - 4s 63us/sample - loss: 0.3548 - accuracy: 0.8713\n",
      "Epoch 3/20\n",
      "60000/60000 [==============================] - 4s 64us/sample - loss: 0.3190 - accuracy: 0.8827\n",
      "Epoch 4/20\n",
      "60000/60000 [==============================] - 4s 64us/sample - loss: 0.2972 - accuracy: 0.8906\n",
      "Epoch 5/20\n",
      "60000/60000 [==============================] - 4s 67us/sample - loss: 0.2821 - accuracy: 0.8956\n",
      "Epoch 6/20\n",
      "60000/60000 [==============================] - 4s 67us/sample - loss: 0.2671 - accuracy: 0.9009\n",
      "Epoch 7/20\n",
      "60000/60000 [==============================] - 4s 64us/sample - loss: 0.2552 - accuracy: 0.9046\n",
      "Epoch 8/20\n",
      "60000/60000 [==============================] - 4s 64us/sample - loss: 0.2435 - accuracy: 0.9093\n",
      "Epoch 9/20\n",
      "60000/60000 [==============================] - 4s 64us/sample - loss: 0.2343 - accuracy: 0.9127\n",
      "Epoch 10/20\n",
      "60000/60000 [==============================] - 4s 65us/sample - loss: 0.2248 - accuracy: 0.9158\n",
      "Epoch 11/20\n",
      "60000/60000 [==============================] - 4s 66us/sample - loss: 0.2174 - accuracy: 0.9181\n",
      "Epoch 12/20\n",
      "60000/60000 [==============================] - 4s 65us/sample - loss: 0.2089 - accuracy: 0.9215\n",
      "Epoch 13/20\n",
      "60000/60000 [==============================] - 4s 67us/sample - loss: 0.2045 - accuracy: 0.9221\n",
      "Epoch 14/20\n",
      "60000/60000 [==============================] - 4s 66us/sample - loss: 0.1973 - accuracy: 0.9255\n",
      "Epoch 15/20\n",
      "60000/60000 [==============================] - 4s 66us/sample - loss: 0.1901 - accuracy: 0.9282\n",
      "Epoch 16/20\n",
      "60000/60000 [==============================] - 4s 69us/sample - loss: 0.1853 - accuracy: 0.9312\n",
      "Epoch 17/20\n",
      "60000/60000 [==============================] - 4s 70us/sample - loss: 0.1774 - accuracy: 0.9330\n",
      "Epoch 18/20\n",
      "60000/60000 [==============================] - 4s 66us/sample - loss: 0.1724 - accuracy: 0.9357\n",
      "Epoch 19/20\n",
      "60000/60000 [==============================] - 4s 70us/sample - loss: 0.1729 - accuracy: 0.9353\n",
      "Epoch 20/20\n",
      "60000/60000 [==============================] - 4s 73us/sample - loss: 0.1653 - accuracy: 0.9390\n"
     ]
    },
    {
     "data": {
      "text/plain": [
       "<tensorflow.python.keras.callbacks.History at 0xb32060358>"
      ]
     },
     "execution_count": 12,
     "metadata": {},
     "output_type": "execute_result"
    }
   ],
   "source": [
    "model.fit(X_train_n,y_train,epochs=20)"
   ]
  },
  {
   "cell_type": "code",
   "execution_count": 13,
   "metadata": {},
   "outputs": [
    {
     "name": "stdout",
     "output_type": "stream",
     "text": [
      "10000/10000 [==============================] - 0s 37us/sample - loss: 2.1251 - accuracy: 0.8664\n"
     ]
    },
    {
     "data": {
      "text/plain": [
       "[2.1251371286392198, 0.8664]"
      ]
     },
     "execution_count": 13,
     "metadata": {},
     "output_type": "execute_result"
    }
   ],
   "source": [
    "model.evaluate(X_test, y_test) #모델 성능 평가하기"
   ]
  }
 ],
 "metadata": {
  "kernelspec": {
   "display_name": "Python 3",
   "language": "python",
   "name": "python3"
  },
  "language_info": {
   "codemirror_mode": {
    "name": "ipython",
    "version": 3
   },
   "file_extension": ".py",
   "mimetype": "text/x-python",
   "name": "python",
   "nbconvert_exporter": "python",
   "pygments_lexer": "ipython3",
   "version": "3.7.3"
  }
 },
 "nbformat": 4,
 "nbformat_minor": 2
}
