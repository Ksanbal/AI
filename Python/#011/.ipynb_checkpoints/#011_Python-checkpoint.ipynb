{
 "cells": [
  {
   "cell_type": "markdown",
   "metadata": {},
   "source": [
    "# #011_Python "
   ]
  },
  {
   "cell_type": "markdown",
   "metadata": {},
   "source": [
    "## 다중상속"
   ]
  },
  {
   "cell_type": "markdown",
   "metadata": {},
   "source": [
    "### 1. 함수방식\n",
    "- 순서를 내가 지정할 수 있지만 똑같은 기능이 반복될 수 있다."
   ]
  },
  {
   "cell_type": "code",
   "execution_count": 24,
   "metadata": {},
   "outputs": [],
   "source": [
    "class X:\n",
    "    def __init__(self):\n",
    "        print('X')\n",
    "        \n",
    "class A(X):\n",
    "    def __init__(self):\n",
    "        X.__init__(self)\n",
    "        print('A')\n",
    "\n",
    "class B(X):\n",
    "    def __init__(self):\n",
    "        X.__init__(self)\n",
    "        print('B')\n",
    "        \n",
    "class C(A,B):\n",
    "    def __init__(self):\n",
    "        B.__init__(self) # 부모의 메소드를 그대로 불러온다. (함수적 관점)\n",
    "        A.__init__(self) \n",
    "        print('C')"
   ]
  },
  {
   "cell_type": "code",
   "execution_count": 26,
   "metadata": {},
   "outputs": [
    {
     "name": "stdout",
     "output_type": "stream",
     "text": [
      "X\n",
      "B\n",
      "X\n",
      "A\n",
      "C\n"
     ]
    }
   ],
   "source": [
    "c = C() # 똑같은 기능인 X를 2번 실행하게 된다."
   ]
  },
  {
   "cell_type": "markdown",
   "metadata": {},
   "source": [
    "### 2. super()\n",
    "- super()가 상속의 순서를 정한다.\n",
    "- 순서를 내가 지정 할 수 없다."
   ]
  },
  {
   "cell_type": "code",
   "execution_count": 42,
   "metadata": {},
   "outputs": [],
   "source": [
    "class X:\n",
    "    def __init__(self):\n",
    "        print('X')\n",
    "        \n",
    "class A(X):\n",
    "    def __init__(self):\n",
    "        X.__init__(self)\n",
    "        print('A')\n",
    "\n",
    "class B(X):\n",
    "    def __init__(self):\n",
    "        X.__init__(self)\n",
    "        print('B')\n",
    "        \n",
    "class C(B, A):\n",
    "    def __init__(self):\n",
    "        super(C, self).__init__() # C, self는 생략이 가능하다. - Python3 (메소드 관점)\n",
    "        print('C')"
   ]
  },
  {
   "cell_type": "code",
   "execution_count": 43,
   "metadata": {},
   "outputs": [
    {
     "name": "stdout",
     "output_type": "stream",
     "text": [
      "X\n",
      "B\n",
      "C\n"
     ]
    }
   ],
   "source": [
    "c = C()"
   ]
  },
  {
   "cell_type": "code",
   "execution_count": 49,
   "metadata": {},
   "outputs": [
    {
     "data": {
      "text/plain": [
       "(__main__.C, __main__.B, __main__.A, __main__.X, object)"
      ]
     },
     "execution_count": 49,
     "metadata": {},
     "output_type": "execute_result"
    }
   ],
   "source": [
    "C.__mro__"
   ]
  },
  {
   "cell_type": "code",
   "execution_count": 45,
   "metadata": {},
   "outputs": [
    {
     "data": {
      "text/plain": [
       "[__main__.C, __main__.B, __main__.A, __main__.X, object]"
      ]
     },
     "execution_count": 45,
     "metadata": {},
     "output_type": "execute_result"
    }
   ],
   "source": [
    "C.mro()"
   ]
  },
  {
   "cell_type": "markdown",
   "metadata": {},
   "source": [
    "### 3. 모두 Super()"
   ]
  },
  {
   "cell_type": "code",
   "execution_count": 53,
   "metadata": {},
   "outputs": [],
   "source": [
    "class X:\n",
    "    def __init__(self):\n",
    "        print('X')\n",
    "        \n",
    "class A(X):\n",
    "    def __init__(self):\n",
    "        super().__init__()\n",
    "        print('A')\n",
    "\n",
    "class B(X):\n",
    "    def __init__(self):\n",
    "        super().__init__()\n",
    "        print('B')\n",
    "        \n",
    "class C(B, A):\n",
    "    def __init__(self):\n",
    "        super(C, self).__init__() # C, self는 생략이 가능하다. - Python3 (메소드 관점)\n",
    "        print('C')"
   ]
  },
  {
   "cell_type": "code",
   "execution_count": 54,
   "metadata": {},
   "outputs": [
    {
     "name": "stdout",
     "output_type": "stream",
     "text": [
      "X\n",
      "A\n",
      "B\n",
      "C\n"
     ]
    }
   ],
   "source": [
    "c = C()"
   ]
  },
  {
   "cell_type": "code",
   "execution_count": 56,
   "metadata": {},
   "outputs": [
    {
     "data": {
      "text/plain": [
       "(__main__.C, __main__.B, __main__.A, __main__.X, object)"
      ]
     },
     "execution_count": 56,
     "metadata": {},
     "output_type": "execute_result"
    }
   ],
   "source": [
    "C.__mro__ # 실행순서를 알려주는데, mro는 Stack으로 실행되기 때문에 순서가 역순이다."
   ]
  },
  {
   "cell_type": "markdown",
   "metadata": {},
   "source": [
    "### 4. Minxins"
   ]
  },
  {
   "cell_type": "markdown",
   "metadata": {},
   "source": [
    "- 서로 관계가 없는 부모를 상속 받는 기법\n",
    "- 부모가 서로 관련이 없기 때문에 특정 기능이 중복되는 문제가 없다."
   ]
  },
  {
   "cell_type": "code",
   "execution_count": 57,
   "metadata": {},
   "outputs": [],
   "source": [
    "class X:\n",
    "    def nananan(self):\n",
    "        return self"
   ]
  },
  {
   "cell_type": "code",
   "execution_count": 58,
   "metadata": {},
   "outputs": [],
   "source": [
    "class C(X,A):\n",
    "    pass"
   ]
  },
  {
   "cell_type": "markdown",
   "metadata": {},
   "source": [
    "---"
   ]
  },
  {
   "cell_type": "markdown",
   "metadata": {},
   "source": [
    "## Descriptor"
   ]
  },
  {
   "cell_type": "code",
   "execution_count": null,
   "metadata": {},
   "outputs": [],
   "source": []
  }
 ],
 "metadata": {
  "kernelspec": {
   "display_name": "Python 3",
   "language": "python",
   "name": "python3"
  },
  "language_info": {
   "codemirror_mode": {
    "name": "ipython",
    "version": 3
   },
   "file_extension": ".py",
   "mimetype": "text/x-python",
   "name": "python",
   "nbconvert_exporter": "python",
   "pygments_lexer": "ipython3",
   "version": "3.7.3"
  }
 },
 "nbformat": 4,
 "nbformat_minor": 2
}
