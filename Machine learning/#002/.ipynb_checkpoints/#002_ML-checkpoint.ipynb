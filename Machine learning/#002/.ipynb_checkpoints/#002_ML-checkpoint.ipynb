{
 "cells": [
  {
   "cell_type": "markdown",
   "metadata": {},
   "source": [
    "# #002_ML"
   ]
  },
  {
   "cell_type": "markdown",
   "metadata": {},
   "source": [
    "- 통계 : 이해와 설명, \n",
    "- 블랙박스 이슈 : 예측에 대한 설명이 없기 때문에 통계가 필요하다. \n",
    "<br> => X-AI : 설명 가능한 AI\n",
    "- 종류\n",
    "    1. 지도학습 (supervise)\n",
    "    2. 비지도학습 (unsupervise)\n",
    "    3. 강화학습 "
   ]
  },
  {
   "cell_type": "code",
   "execution_count": null,
   "metadata": {},
   "outputs": [],
   "source": []
  }
 ],
 "metadata": {
  "kernelspec": {
   "display_name": "Python 3",
   "language": "python",
   "name": "python3"
  },
  "language_info": {
   "codemirror_mode": {
    "name": "ipython",
    "version": 3
   },
   "file_extension": ".py",
   "mimetype": "text/x-python",
   "name": "python",
   "nbconvert_exporter": "python",
   "pygments_lexer": "ipython3",
   "version": "3.7.3"
  }
 },
 "nbformat": 4,
 "nbformat_minor": 2
}
